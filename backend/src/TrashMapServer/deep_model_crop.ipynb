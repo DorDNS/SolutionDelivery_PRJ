{
 "cells": [
  {
   "cell_type": "markdown",
   "id": "6304f3d1",
   "metadata": {},
   "source": [
    "# Modèle CNN"
   ]
  },
  {
   "cell_type": "markdown",
   "id": "4d6ee959",
   "metadata": {},
   "source": [
    "## Imports"
   ]
  },
  {
   "cell_type": "code",
   "execution_count": 1,
   "id": "15a3c759",
   "metadata": {},
   "outputs": [
    {
     "name": "stderr",
     "output_type": "stream",
     "text": [
      "2025-07-05 00:09:11.676337: I tensorflow/core/platform/cpu_feature_guard.cc:210] This TensorFlow binary is optimized to use available CPU instructions in performance-critical operations.\n",
      "To enable the following instructions: AVX2 FMA, in other operations, rebuild TensorFlow with the appropriate compiler flags.\n"
     ]
    }
   ],
   "source": [
    "import os\n",
    "import sqlite3\n",
    "import pandas as pd\n",
    "import numpy as np\n",
    "import tensorflow as tf\n",
    "from tensorflow.keras.preprocessing.image import load_img, img_to_array\n",
    "from tensorflow.keras.models import Sequential\n",
    "from tensorflow.keras.layers import Conv2D, MaxPooling2D, Flatten, Dense, Dropout\n",
    "from sklearn.metrics import classification_report, confusion_matrix\n",
    "import matplotlib.pyplot as plt\n",
    "from sklearn.model_selection import KFold, train_test_split\n",
    "from tqdm import tqdm"
   ]
  },
  {
   "cell_type": "markdown",
   "id": "df8fb54d",
   "metadata": {},
   "source": [
    "## Connexion à la BDD"
   ]
  },
  {
   "cell_type": "code",
   "execution_count": 2,
   "id": "7213bedd",
   "metadata": {},
   "outputs": [
    {
     "name": "stdout",
     "output_type": "stream",
     "text": [
      "Connexion à : /Users/noormezzi/Desktop/Projet_S6/SolutionDelivery_PRJ/backend/src/db.sqlite3\n",
      "Tables présentes : [('Image',), ('Location',), ('ClassificationConstraints',), ('sqlite_sequence',)]\n"
     ]
    }
   ],
   "source": [
    "db_path = os.path.abspath(\"../db.sqlite3\")\n",
    "print(\"Connexion à :\", db_path)\n",
    "\n",
    "conn = sqlite3.connect(db_path)\n",
    "cursor = conn.cursor()\n",
    "cursor.execute(\"SELECT name FROM sqlite_master WHERE type='table';\")\n",
    "print(\"Tables présentes :\", cursor.fetchall())"
   ]
  },
  {
   "cell_type": "markdown",
   "id": "1f5bac6c",
   "metadata": {},
   "source": [
    "## Chargement des données train"
   ]
  },
  {
   "cell_type": "code",
   "execution_count": 3,
   "id": "55f96176",
   "metadata": {},
   "outputs": [
    {
     "name": "stdout",
     "output_type": "stream",
     "text": [
      "Nombre d'images train : 600\n"
     ]
    }
   ],
   "source": [
    "query_train = \"SELECT Id_Image, File_path, Status FROM Image WHERE Id_Image > 100\"\n",
    "df_train = pd.read_sql_query(query_train, conn)\n",
    "print(f\"Nombre d'images train : {len(df_train)}\")"
   ]
  },
  {
   "cell_type": "markdown",
   "id": "dc3dfecf",
   "metadata": {},
   "source": [
    "## Chargement des données test"
   ]
  },
  {
   "cell_type": "code",
   "execution_count": 4,
   "id": "fc2f4928",
   "metadata": {},
   "outputs": [
    {
     "name": "stdout",
     "output_type": "stream",
     "text": [
      "Nombre d'images test : 100\n"
     ]
    }
   ],
   "source": [
    "query_test = \"SELECT Id_Image, File_path, Status FROM Image WHERE Id_Image <= 100\"\n",
    "df_test = pd.read_sql_query(query_test, conn)\n",
    "print(f\"Nombre d'images test : {len(df_test)}\")"
   ]
  },
  {
   "cell_type": "markdown",
   "id": "cdc46556",
   "metadata": {},
   "source": [
    "## Fonction de préprocessing image"
   ]
  },
  {
   "cell_type": "code",
   "execution_count": 5,
   "id": "9d258486",
   "metadata": {},
   "outputs": [],
   "source": [
    "def load_and_preprocess(img_path, target_size=(128,128)):\n",
    "    img = load_img(img_path, target_size=target_size)\n",
    "    img_array = img_to_array(img) / 255.0\n",
    "    return img_array"
   ]
  },
  {
   "cell_type": "markdown",
   "id": "d648f879",
   "metadata": {},
   "source": [
    "## Préparation X, y (train)"
   ]
  },
  {
   "cell_type": "code",
   "execution_count": 6,
   "id": "30a8e51d",
   "metadata": {},
   "outputs": [
    {
     "name": "stdout",
     "output_type": "stream",
     "text": [
      "✅ Train loaded : (600, 128, 128, 3) (600,)\n"
     ]
    }
   ],
   "source": [
    "images_train, labels_train = [], []\n",
    "for _, row in df_train.iterrows():\n",
    "    id_image = row['Id_Image']\n",
    "    img_path = os.path.abspath(f\"../../src/media/Data/crops/crop_{id_image}.webp\")\n",
    "    if os.path.exists(img_path):\n",
    "        images_train.append(load_and_preprocess(img_path))\n",
    "        labels_train.append(row['Status'])\n",
    "    else:\n",
    "        print(f\"⚠️ Image manquante : {img_path}\")\n",
    "\n",
    "X = np.array(images_train)\n",
    "y = np.array(labels_train)\n",
    "\n",
    "print(\"✅ Train loaded :\", X.shape, y.shape)"
   ]
  },
  {
   "cell_type": "markdown",
   "id": "23860fce",
   "metadata": {},
   "source": [
    "## Cross-Validation"
   ]
  },
  {
   "cell_type": "code",
   "execution_count": 7,
   "id": "a85571b5",
   "metadata": {},
   "outputs": [
    {
     "name": "stdout",
     "output_type": "stream",
     "text": [
      "\n",
      "🔎 Cross-Validation (5 folds)\n",
      "\n",
      "Fold 1\n"
     ]
    },
    {
     "name": "stderr",
     "output_type": "stream",
     "text": [
      "/opt/anaconda3/lib/python3.11/site-packages/keras/src/layers/convolutional/base_conv.py:113: UserWarning: Do not pass an `input_shape`/`input_dim` argument to a layer. When using Sequential models, prefer using an `Input(shape)` object as the first layer in the model instead.\n",
      "  super().__init__(activity_regularizer=activity_regularizer, **kwargs)\n"
     ]
    },
    {
     "name": "stdout",
     "output_type": "stream",
     "text": [
      "Loss: 0.5124 | Accuracy: 76.67%\n",
      "\n",
      "Fold 2\n",
      "Loss: 0.3825 | Accuracy: 85.00%\n",
      "\n",
      "Fold 3\n",
      "Loss: 0.5900 | Accuracy: 75.83%\n",
      "\n",
      "Fold 4\n",
      "Loss: 0.4729 | Accuracy: 77.50%\n",
      "\n",
      "Fold 5\n",
      "Loss: 0.5868 | Accuracy: 70.83%\n",
      "\n",
      "📊 Cross-validation summary :\n",
      "Mean accuracy: 77.17% (+/- 4.55%)\n",
      "Mean loss: 0.5089 (+/- 0.0774)\n"
     ]
    }
   ],
   "source": [
    "kf = KFold(n_splits=5, shuffle=True, random_state=42)\n",
    "cv_acc, cv_loss = [], []\n",
    "\n",
    "print(\"\\n🔎 Cross-Validation (5 folds)\")\n",
    "for fold, (train_idx, val_idx) in enumerate(kf.split(X), 1):\n",
    "    print(f\"\\nFold {fold}\")\n",
    "\n",
    "    X_train, X_val = X[train_idx], X[val_idx]\n",
    "    y_train, y_val = y[train_idx], y[val_idx]\n",
    "\n",
    "    model = Sequential([\n",
    "        Conv2D(32, (3,3), activation='relu', input_shape=(128,128,3)),\n",
    "        MaxPooling2D(2,2),\n",
    "        Conv2D(64, (3,3), activation='relu'),\n",
    "        MaxPooling2D(2,2),\n",
    "        Flatten(),\n",
    "        Dense(64, activation='relu'),\n",
    "        Dropout(0.5),\n",
    "        Dense(1, activation='sigmoid')\n",
    "    ])\n",
    "\n",
    "    model.compile(optimizer='adam', loss='binary_crossentropy', metrics=['accuracy'])\n",
    "    model.fit(X_train, y_train, epochs=5, validation_data=(X_val, y_val), verbose=0)\n",
    "\n",
    "    scores = model.evaluate(X_val, y_val, verbose=0)\n",
    "    print(f\"Loss: {scores[0]:.4f} | Accuracy: {scores[1]*100:.2f}%\")\n",
    "    cv_acc.append(scores[1])\n",
    "    cv_loss.append(scores[0])\n",
    "\n",
    "print(\"\\n📊 Cross-validation summary :\")\n",
    "print(f\"Mean accuracy: {np.mean(cv_acc)*100:.2f}% (+/- {np.std(cv_acc)*100:.2f}%)\")\n",
    "print(f\"Mean loss: {np.mean(cv_loss):.4f} (+/- {np.std(cv_loss):.4f})\")"
   ]
  },
  {
   "cell_type": "markdown",
   "id": "bc742074",
   "metadata": {},
   "source": [
    "## Entraînement final"
   ]
  },
  {
   "cell_type": "code",
   "execution_count": 8,
   "id": "e8566dd9",
   "metadata": {},
   "outputs": [
    {
     "name": "stdout",
     "output_type": "stream",
     "text": [
      "\n",
      "🏁 Training final model on full train set with validation split\n"
     ]
    },
    {
     "name": "stdout",
     "output_type": "stream",
     "text": [
      "Epoch 1/10\n",
      "\u001b[1m15/15\u001b[0m \u001b[32m━━━━━━━━━━━━━━━━━━━━\u001b[0m\u001b[37m\u001b[0m \u001b[1m12s\u001b[0m 626ms/step - accuracy: 0.5349 - loss: 1.2530 - val_accuracy: 0.4167 - val_loss: 0.6844\n",
      "Epoch 2/10\n",
      "\u001b[1m15/15\u001b[0m \u001b[32m━━━━━━━━━━━━━━━━━━━━\u001b[0m\u001b[37m\u001b[0m \u001b[1m9s\u001b[0m 580ms/step - accuracy: 0.5422 - loss: 0.6408 - val_accuracy: 0.7750 - val_loss: 0.5323\n",
      "Epoch 3/10\n",
      "\u001b[1m15/15\u001b[0m \u001b[32m━━━━━━━━━━━━━━━━━━━━\u001b[0m\u001b[37m\u001b[0m \u001b[1m12s\u001b[0m 818ms/step - accuracy: 0.6996 - loss: 0.5654 - val_accuracy: 0.8083 - val_loss: 0.4831\n",
      "Epoch 4/10\n",
      "\u001b[1m15/15\u001b[0m \u001b[32m━━━━━━━━━━━━━━━━━━━━\u001b[0m\u001b[37m\u001b[0m \u001b[1m10s\u001b[0m 657ms/step - accuracy: 0.7815 - loss: 0.4824 - val_accuracy: 0.8083 - val_loss: 0.4050\n",
      "Epoch 5/10\n",
      "\u001b[1m15/15\u001b[0m \u001b[32m━━━━━━━━━━━━━━━━━━━━\u001b[0m\u001b[37m\u001b[0m \u001b[1m10s\u001b[0m 664ms/step - accuracy: 0.8424 - loss: 0.3934 - val_accuracy: 0.7917 - val_loss: 0.4614\n",
      "Epoch 6/10\n",
      "\u001b[1m15/15\u001b[0m \u001b[32m━━━━━━━━━━━━━━━━━━━━\u001b[0m\u001b[37m\u001b[0m \u001b[1m10s\u001b[0m 642ms/step - accuracy: 0.8421 - loss: 0.3893 - val_accuracy: 0.8333 - val_loss: 0.3895\n",
      "Epoch 7/10\n",
      "\u001b[1m15/15\u001b[0m \u001b[32m━━━━━━━━━━━━━━━━━━━━\u001b[0m\u001b[37m\u001b[0m \u001b[1m10s\u001b[0m 672ms/step - accuracy: 0.8727 - loss: 0.3318 - val_accuracy: 0.7750 - val_loss: 0.4476\n",
      "Epoch 8/10\n",
      "\u001b[1m15/15\u001b[0m \u001b[32m━━━━━━━━━━━━━━━━━━━━\u001b[0m\u001b[37m\u001b[0m \u001b[1m13s\u001b[0m 833ms/step - accuracy: 0.9023 - loss: 0.2607 - val_accuracy: 0.8417 - val_loss: 0.3835\n",
      "Epoch 9/10\n",
      "\u001b[1m15/15\u001b[0m \u001b[32m━━━━━━━━━━━━━━━━━━━━\u001b[0m\u001b[37m\u001b[0m \u001b[1m11s\u001b[0m 747ms/step - accuracy: 0.9173 - loss: 0.2140 - val_accuracy: 0.8000 - val_loss: 0.3945\n",
      "Epoch 10/10\n",
      "\u001b[1m15/15\u001b[0m \u001b[32m━━━━━━━━━━━━━━━━━━━━\u001b[0m\u001b[37m\u001b[0m \u001b[1m12s\u001b[0m 823ms/step - accuracy: 0.9352 - loss: 0.1855 - val_accuracy: 0.7917 - val_loss: 0.4403\n"
     ]
    }
   ],
   "source": [
    "print(\"\\n🏁 Training final model on full train set with validation split\")\n",
    "\n",
    "final_model = Sequential([\n",
    "    Conv2D(32, (3,3), activation='relu', input_shape=(128,128,3)),\n",
    "    MaxPooling2D(2,2),\n",
    "    Conv2D(64, (3,3), activation='relu'),\n",
    "    MaxPooling2D(2,2),\n",
    "    Flatten(),\n",
    "    Dense(64, activation='relu'),\n",
    "    Dropout(0.5),\n",
    "    Dense(1, activation='sigmoid')\n",
    "])\n",
    "\n",
    "final_model.compile(optimizer='adam', loss='binary_crossentropy', metrics=['accuracy'])\n",
    "history_final = final_model.fit(X, y, epochs=10, validation_split=0.2)"
   ]
  },
  {
   "cell_type": "markdown",
   "id": "225fd4a7",
   "metadata": {},
   "source": [
    "## Sauvegarder le modèle entraîné"
   ]
  },
  {
   "cell_type": "code",
   "execution_count": 9,
   "id": "c41d9352",
   "metadata": {},
   "outputs": [
    {
     "name": "stdout",
     "output_type": "stream",
     "text": [
      "✅ Modèle final sauvegardé\n"
     ]
    }
   ],
   "source": [
    "final_model.save(\"trashmap_cn_crop.keras\")\n",
    "print(\"✅ Modèle final sauvegardé\")"
   ]
  },
  {
   "cell_type": "markdown",
   "id": "296f4afa",
   "metadata": {},
   "source": [
    "## Évaluation sur train"
   ]
  },
  {
   "cell_type": "code",
   "execution_count": 10,
   "id": "44ebefe6",
   "metadata": {},
   "outputs": [
    {
     "name": "stdout",
     "output_type": "stream",
     "text": [
      "\u001b[1m19/19\u001b[0m \u001b[32m━━━━━━━━━━━━━━━━━━━━\u001b[0m\u001b[37m\u001b[0m \u001b[1m4s\u001b[0m 199ms/step\n",
      "\n",
      "📈 Evaluation sur train :\n",
      "              precision    recall  f1-score   support\n",
      "\n",
      "           0       0.93      0.95      0.94       316\n",
      "           1       0.95      0.93      0.94       284\n",
      "\n",
      "    accuracy                           0.94       600\n",
      "   macro avg       0.94      0.94      0.94       600\n",
      "weighted avg       0.94      0.94      0.94       600\n",
      "\n",
      "[[301  15]\n",
      " [ 21 263]]\n"
     ]
    }
   ],
   "source": [
    "y_pred_train = (final_model.predict(X) > 0.5).astype(\"int32\")\n",
    "print(\"\\n📈 Evaluation sur train :\")\n",
    "print(classification_report(y, y_pred_train))\n",
    "print(confusion_matrix(y, y_pred_train))"
   ]
  },
  {
   "cell_type": "markdown",
   "id": "ed410289",
   "metadata": {},
   "source": [
    "## Courbes du modèle final"
   ]
  },
  {
   "cell_type": "code",
   "execution_count": 11,
   "id": "a6627039",
   "metadata": {},
   "outputs": [
    {
     "data": {
      "image/png": "[encoded data removed]",
      "text/plain": [
       "<Figure size 1000x400 with 2 Axes>"
      ]
     },
     "metadata": {},
     "output_type": "display_data"
    }
   ],
   "source": [
    "plt.figure(figsize=(10,4))\n",
    "plt.subplot(1,2,1)\n",
    "plt.plot(history_final.history['accuracy'], label='train acc')\n",
    "plt.plot(history_final.history['val_accuracy'], label='val acc')\n",
    "plt.legend()\n",
    "plt.title(\"Accuracy (final model)\")\n",
    "\n",
    "plt.subplot(1,2,2)\n",
    "plt.plot(history_final.history['loss'], label='train loss')\n",
    "plt.plot(history_final.history['val_loss'], label='val loss')\n",
    "plt.legend()\n",
    "plt.title(\"Loss (final model)\")\n",
    "plt.show()"
   ]
  },
  {
   "cell_type": "markdown",
   "id": "6702980c",
   "metadata": {},
   "source": [
    "## Évaluation sur test"
   ]
  },
  {
   "cell_type": "code",
   "execution_count": 12,
   "id": "3555ba69",
   "metadata": {},
   "outputs": [
    {
     "name": "stdout",
     "output_type": "stream",
     "text": [
      "✅ Test set loaded : (100, 128, 128, 3)\n",
      "\u001b[1m4/4\u001b[0m \u001b[32m━━━━━━━━━━━━━━━━━━━━\u001b[0m\u001b[37m\u001b[0m \u001b[1m1s\u001b[0m 244ms/step\n",
      "\n",
      "📈 Evaluation sur test :\n",
      "              precision    recall  f1-score   support\n",
      "\n",
      "           0       0.80      0.73      0.76        51\n",
      "           1       0.74      0.82      0.78        49\n",
      "\n",
      "    accuracy                           0.77       100\n",
      "   macro avg       0.77      0.77      0.77       100\n",
      "weighted avg       0.77      0.77      0.77       100\n",
      "\n",
      "[[37 14]\n",
      " [ 9 40]]\n"
     ]
    }
   ],
   "source": [
    "images_test, labels_test = [], []\n",
    "for _, row in df_test.iterrows():\n",
    "    id_image = row['Id_Image']\n",
    "    img_path = os.path.abspath(f\"../../src/media/Data/crops/crop_{id_image}.webp\")\n",
    "    if os.path.exists(img_path):\n",
    "        images_test.append(load_and_preprocess(img_path))\n",
    "        labels_test.append(row['Status'])\n",
    "    else:\n",
    "        print(f\"⚠️ Image manquante : {img_path}\")\n",
    "\n",
    "X_test = np.array(images_test)\n",
    "y_test = np.array(labels_test)\n",
    "\n",
    "print(\"✅ Test set loaded :\", X_test.shape)\n",
    "\n",
    "y_pred_test = (final_model.predict(X_test) > 0.5).astype(\"int32\")\n",
    "print(\"\\n📈 Evaluation sur test :\")\n",
    "print(classification_report(y_test, y_pred_test))\n",
    "print(confusion_matrix(y_test, y_pred_test))"
   ]
  }
 ],
 "metadata": {
  "kernelspec": {
   "display_name": "Python 3",
   "language": "python",
   "name": "python3"
  },
  "language_info": {
   "codemirror_mode": {
    "name": "ipython",
    "version": 3
   },
   "file_extension": ".py",
   "mimetype": "text/x-python",
   "name": "python",
   "nbconvert_exporter": "python",
   "pygments_lexer": "ipython3",
   "version": "3.12.6"
  }
 },
 "nbformat": 4,
 "nbformat_minor": 5
}
